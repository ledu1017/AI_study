{
 "cells": [
  {
   "cell_type": "code",
   "execution_count": 1,
   "id": "2a95c311",
   "metadata": {},
   "outputs": [],
   "source": [
    "import numpy as np\n",
    "import matplotlib.pyplot as plt\n",
    "\n",
    "from tensorflow.keras.preprocessing.image import ImageDataGenerator\n",
    "from tensorflow.keras.applications.mobilenet_v2 import MobileNetV2\n",
    "from tensorflow.keras import Sequential\n",
    "from tensorflow.keras.layers import Dense, Dropout, GlobalAveragePooling2D\n",
    "from tensorflow.keras.optimizers import Adam\n",
    "from tensorflow.keras.callbacks import ReduceLROnPlateau, EarlyStopping, ModelCheckpoint"
   ]
  },
  {
   "cell_type": "code",
   "execution_count": 2,
   "id": "2da2ecbd",
   "metadata": {},
   "outputs": [],
   "source": [
    "train_datagen = ImageDataGenerator(\n",
    "        rescale = 1./255,\n",
    "        rotation_range = 30,\n",
    "        shear_range = 0.3,\n",
    "        horizontal_flip = True,\n",
    "        width_shift_range = 0.1,\n",
    "        height_shift_range = 0.1,\n",
    "        zoom_range = 0.25,\n",
    ")\n",
    "valid_datagen = ImageDataGenerator(\n",
    "        rescale = 1./255,\n",
    ")"
   ]
  },
  {
   "cell_type": "code",
   "execution_count": null,
   "id": "3f30275b",
   "metadata": {},
   "outputs": [],
   "source": [
    "batch_size = 64\n",
    "img_width = 128\n",
    "img_height = 128\n",
    "\n",
    "train_data = train_datagen.flow_from_directory(\n",
    "    '경로',\n",
    "    batch_size = batch_size,\n",
    "    target_size = (img_width, img_height),\n",
    "    shuffle = True,\n",
    ")\n",
    "valid_data = valid_datagen.flow_from_directory(\n",
    "    '경로',\n",
    "    target_size = (img_width, img_height),\n",
    "    batch_size = batch_size,\n",
    "    shuffle = False,\n",
    ")"
   ]
  },
  {
   "cell_type": "code",
   "execution_count": null,
   "id": "b478b921",
   "metadata": {},
   "outputs": [],
   "source": [
    "def visualize_images(images, labels):\n",
    "    figure, ax = plt.subplots(nrows = 3, ncols = 3, figsize = (12, 14))\n",
    "    classes = list(train_data.class_indices.keys())\n",
    "    img_no = 0\n",
    "    for i in range(3):\n",
    "        for j in range(3):\n",
    "            img = images[img_no]\n",
    "            label_no = np.argmax(labels[img_no])\n",
    "            \n",
    "            ax[i,j].imshow(img)\n",
    "            ax[i,j].set_title(classes[label_no])\n",
    "            ax[i,j].set_axis_off()\n",
    "            img_no += 1\n",
    "\n",
    "images, labels = next(train_data)\n",
    "visualize_images(images, labels)"
   ]
  },
  {
   "cell_type": "code",
   "execution_count": null,
   "id": "fa00c014",
   "metadata": {},
   "outputs": [],
   "source": [
    "base = MobileNetV2(input_shape = (img_width, img_height, 3), include_top = False,\n",
    "                  weights = 'imagenet')\n",
    "base.trainable = True\n",
    "model = Sequential()\n",
    "model.add(base)\n",
    "model.add(GlobalAveragePooling2D())\n",
    "model.add(Dense(128, activation = 'relu'))\n",
    "model.add(Dropout(0.5))\n",
    "model.add(Dense(6, activation = 'softmax'))\n",
    "opt = Adam(learning_rate = 0.001)\n",
    "model.compile(optimizer = opt, loss = 'categorical_crossentropy', metrics = ['accuracy'])"
   ]
  },
  {
   "cell_type": "code",
   "execution_count": null,
   "id": "9aaecdd3",
   "metadata": {},
   "outputs": [],
   "source": [
    "reduce_lr = ReduceLROnPlateau(monitor = 'val_accuracy', patience = 1, verbose = 1)\n",
    "early_stop = EarlyStopping(monitor = 'val_accuracy', patience = 5, verbose = 1,\n",
    "                          resotre_best_weights = True)\n",
    "check_point = ModelCheckpoint('best_model.h5', monitor = 'val_accuracy', verbose = 1,\n",
    "                             save_best_only = True)"
   ]
  },
  {
   "cell_type": "code",
   "execution_count": null,
   "id": "2b09e480",
   "metadata": {},
   "outputs": [],
   "source": [
    "history = model.fit(train_data, epochs = 50, validation_data = valid_data,\n",
    "                   callbacks = [early_stop, reduce_lr, check_point])"
   ]
  }
 ],
 "metadata": {
  "kernelspec": {
   "display_name": "Python 3 (ipykernel)",
   "language": "python",
   "name": "python3"
  },
  "language_info": {
   "codemirror_mode": {
    "name": "ipython",
    "version": 3
   },
   "file_extension": ".py",
   "mimetype": "text/x-python",
   "name": "python",
   "nbconvert_exporter": "python",
   "pygments_lexer": "ipython3",
   "version": "3.10.9"
  }
 },
 "nbformat": 4,
 "nbformat_minor": 5
}
