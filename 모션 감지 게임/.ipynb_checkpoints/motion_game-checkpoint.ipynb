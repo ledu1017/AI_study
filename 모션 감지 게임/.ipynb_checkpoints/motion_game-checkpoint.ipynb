{
 "cells": [
  {
   "cell_type": "code",
   "execution_count": 1,
   "id": "51b30967",
   "metadata": {},
   "outputs": [],
   "source": [
    "import os\n",
    "import random\n",
    "import cv2\n",
    "from cvzone.FaceMeshModule import FaceMeshDetector\n",
    "import cvzone"
   ]
  },
  {
   "cell_type": "code",
   "execution_count": 2,
   "id": "66c5469a",
   "metadata": {},
   "outputs": [
    {
     "data": {
      "text/plain": [
       "True"
      ]
     },
     "execution_count": 2,
     "metadata": {},
     "output_type": "execute_result"
    }
   ],
   "source": [
    "cap = cv2.VideoCapture(0)    # 비디오 캡처 객체 생성 (0은 기본 카메라)\n",
    "cap.set(3, 1280)    # 가로길이\n",
    "cap.set(4, 720)    # 세로 길어"
   ]
  },
  {
   "cell_type": "code",
   "execution_count": 3,
   "id": "e137fcb6",
   "metadata": {},
   "outputs": [],
   "source": [
    "detector = FaceMeshDetector(maxFaces = 1)    # 최대 1개의 얼굴 감지\n",
    "idList = [0, 17, 78, 292]    # 사용할 FaceMesh 지점의 ID 리스트 생성"
   ]
  },
  {
   "cell_type": "code",
   "execution_count": 4,
   "id": "fac73269",
   "metadata": {},
   "outputs": [],
   "source": [
    "# 먹을 수 있는 오브젝트의 이미지를 로드\n",
    "folderEatable = 'Objects/eatable'\n",
    "listEatable = os.listdir(folderEatable)\n",
    "eatables = []\n",
    "for object in listEatable:\n",
    "    eatables.append(cv2.imread(f'{folderEatable}/{object}', cv2.IMREAD_UNCHANGED))"
   ]
  },
  {
   "cell_type": "code",
   "execution_count": 5,
   "id": "ef606a24",
   "metadata": {},
   "outputs": [],
   "source": [
    "# 먹을 수 없는 오브젝트의 이미지 로드\n",
    "folderNonEatable = 'Objects/noneatable'\n",
    "listNonEatable = os.listdir(folderNonEatable)\n",
    "nonEatables = []\n",
    "for object in listNonEatable:\n",
    "    nonEatables.append(cv2.imread(f'{folderNonEatable}/{object}', cv2.IMREAD_UNCHANGED))"
   ]
  },
  {
   "cell_type": "code",
   "execution_count": 6,
   "id": "fcc43e3f",
   "metadata": {},
   "outputs": [],
   "source": [
    "currentObject = eatables[0]    # 연재 오브젝트를 먹을 수 있는 첫번째 오브젝트로 설정\n",
    "pos = [300, 0]    # 오브젝트 초기 위치\n",
    "speed = 5    # 오브젝트 초기 속도\n",
    "count = 0    # 게임 점수 0점 초기화\n",
    "global isEatable    # 먹을 수 있는지 여부 나타내는 글로벌 변수\n",
    "isEatable = True    # 오브젝트는 초기에 먹을 수 있음\n",
    "gameOver = False    # 게임 오버 상태 False로 초기화"
   ]
  },
  {
   "cell_type": "code",
   "execution_count": 7,
   "id": "de523889",
   "metadata": {},
   "outputs": [],
   "source": [
    "def resetObject():    # 오브젝트 리셋하는 함수\n",
    "    global isEatable\n",
    "    pos[0] = random.randint(100, 1180)    # 오브젝트의 x좌표 랜덤 상성\n",
    "    pos[1] = 0 # 오브젝트의 y 좌표를 0으로 설정\n",
    "    randNo = random.randint(0,2)    # 0, 1, 2중 랜덤한 숫자를 생성\n",
    "    if randNo == 0:\n",
    "        currentObject = nonEatables[random.randint(0, 3)]    # 먹을 수 없는 오브젝트 중 하나 랜덤하게 선택\n",
    "        isEatable = True    # 오브젝트 먹을 수 있음\n",
    "    \n",
    "    return currentObject"
   ]
  },
  {
   "cell_type": "code",
   "execution_count": 8,
   "id": "368ab843",
   "metadata": {},
   "outputs": [
    {
     "name": "stdout",
     "output_type": "stream",
     "text": [
      "599.7007587122098\n",
      "593.2832375855565\n",
      "590.7723757929106\n",
      "586.046073274107\n",
      "582.7126221389065\n",
      "579.1165685766554\n",
      "574.9791300560395\n",
      "570.8554983531296\n",
      "565.6049858337531\n",
      "562.5699956449864\n",
      "560.1089179793515\n",
      "554.6250986026507\n",
      "552.1775076911409\n",
      "549.1538946415659\n",
      "547.1791297189615\n",
      "544.390484854392\n",
      "541.6022525802491\n",
      "539.874059387928\n",
      "535.8852489106226\n",
      "529.4997639281816\n",
      "525.0695192067427\n",
      "520.6399907805777\n",
      "515.9573625795061\n",
      "511.61411239331545\n",
      "507.7716021992565\n",
      "504.28761634606894\n",
      "499.6518788116382\n",
      "495.6177962906498\n",
      "492.610393719012\n",
      "490.80036674802926\n",
      "491.0091648839154\n",
      "488.43935140404074\n",
      "485.1030818290067\n",
      "481.79767537836875\n"
     ]
    },
    {
     "ename": "NameError",
     "evalue": "name 'resetObject' is not defined",
     "output_type": "error",
     "traceback": [
      "\u001b[1;31m---------------------------------------------------------------------------\u001b[0m",
      "\u001b[1;31mNameError\u001b[0m                                 Traceback (most recent call last)",
      "Cell \u001b[1;32mIn[8], line 56\u001b[0m\n\u001b[0;32m     53\u001b[0m key \u001b[38;5;241m=\u001b[39m cv2\u001b[38;5;241m.\u001b[39mwaitKey(\u001b[38;5;241m1\u001b[39m)  \u001b[38;5;66;03m# 사용자의 키 입력을 기다림\u001b[39;00m\n\u001b[0;32m     55\u001b[0m \u001b[38;5;28;01mif\u001b[39;00m key \u001b[38;5;241m==\u001b[39m \u001b[38;5;28mord\u001b[39m(\u001b[38;5;124m'\u001b[39m\u001b[38;5;124mr\u001b[39m\u001b[38;5;124m'\u001b[39m):  \u001b[38;5;66;03m# 'r' 키를 누르면,\u001b[39;00m\n\u001b[1;32m---> 56\u001b[0m     \u001b[43mresetObject\u001b[49m()  \u001b[38;5;66;03m# 오브젝트를 리셋하고,\u001b[39;00m\n\u001b[0;32m     57\u001b[0m     gameOver \u001b[38;5;241m=\u001b[39m \u001b[38;5;28;01mFalse\u001b[39;00m  \u001b[38;5;66;03m# 게임 오버 상태를 해제하며,\u001b[39;00m\n\u001b[0;32m     58\u001b[0m     count \u001b[38;5;241m=\u001b[39m \u001b[38;5;241m0\u001b[39m  \u001b[38;5;66;03m# 점수를 0으로 리셋하고,\u001b[39;00m\n",
      "\u001b[1;31mNameError\u001b[0m: name 'resetObject' is not defined"
     ]
    }
   ],
   "source": [
    "while True:  # 무한 루프\n",
    "    success, img = cap.read()  # 카메라로부터 이미지를 캡처\n",
    "\n",
    "    if gameOver is False:  # 게임 오버 상태가 아니라면,\n",
    "        img, faces = detector.findFaceMesh(img, draw=False)  # FaceMesh를 찾아서 그리지 않음\n",
    "\n",
    "        img = cvzone.overlayPNG(img, currentObject, pos)  # 현재 오브젝트를 이미지에 오버레이\n",
    "        pos[1] += speed  # 오브젝트의 y 좌표를 속도만큼 증가시킴\n",
    "\n",
    "        if pos[1] > 520:  # 오브젝트가 화면 하단에 도달하면,\n",
    "            currentObject = resetObject()  # 오브젝트를 리셋\n",
    "\n",
    "        if faces:  # 얼굴이 감지되면,\n",
    "            face = faces[0]  # 첫 번째 얼굴을 선택\n",
    "\n",
    "            up = face[idList[0]]  # 얼굴의 위쪽 지점 선택\n",
    "            down = face[idList[1]]  # 얼굴의 아래쪽 지점 선택\n",
    "\n",
    "            for id in idList:  # idList의 모든 id에 대해,\n",
    "                cv2.circle(img, face[id], 5, (255, 0, 255), 5)  # 얼굴 지점에 원을 그림\n",
    "            cv2.line(img, up, down, (0, 255, 0), 3)  # 얼굴의 위쪽과 아래쪽 지점 사이에 선을 그림\n",
    "            cv2.line(img, face[idList[2]], face[idList[3]], (0, 255, 0), 3)  # 얼굴의 두 가운데 지점 사이에 선을 그림\n",
    "\n",
    "            upDown, _ = detector.findDistance(face[idList[0]], face[idList[1]])  # 위쪽과 아래쪽 지점 사이의 거리 계산\n",
    "            leftRight, _ = detector.findDistance(face[idList[2]], face[idList[3]])  # 두 가운데 지점 사이의 거리 계산\n",
    "\n",
    "            ## Distance of the Object\n",
    "            cx, cy = (up[0] + down[0]) // 2, (up[1] + down[1]) // 2  # 위쪽과 아래쪽 지점의 중간 좌표 계산\n",
    "            cv2.line(img, (cx, cy), (pos[0] + 50, pos[1] + 50), (0, 255, 0), 3)  # 중간 좌표와 오브젝트 사이에 선을 그림\n",
    "            distMouthObject, _ = detector.findDistance((cx, cy), (pos[0] + 50, pos[1] + 50))  # 중간 좌표와 오브젝트 사이의 거리 계산\n",
    "            print(distMouthObject)  # 계산된 거리를 출력\n",
    "\n",
    "            # Lip opened or closed\n",
    "            ratio = int((upDown / leftRight) * 100)  # 입이 열려있는지 여부를 결정하는 비율 계산\n",
    "            # print(ratio)  # 계산된 비율을 출력\n",
    "            if ratio > 60:  # 비율이 60보다 크면,\n",
    "                mouthStatus = \"Open\"  # 입이 열려있음\n",
    "            else:  # 비율이 60보다 작거나 같으면,\n",
    "                mouthStatus = \"Closed\"  # 입이 닫혀있음\n",
    "            cv2.putText(img, mouthStatus, (50, 50), cv2.FONT_HERSHEY_COMPLEX, 2, (255, 0, 255), 2)  # 입의 상태를 이미지에 텍스트로 표시\n",
    "\n",
    "            if distMouthObject < 100 and ratio > 60:  # 거리가 100 미만이고, 입이 열려있으면,\n",
    "                if isEatable:  # 오브젝트가 먹을 수 있는 경우,\n",
    "                    currentObject = resetObject()  # 오브젝트를 리셋하고,\n",
    "                    count += 1  # 점수를 1점 늘림\n",
    "                else:  # 오브젝트가 먹을 수 없는 경우,\n",
    "                    gameOver = True  # 게임 오버\n",
    "        cv2.putText(img, str(count), (1100, 50), cv2.FONT_HERSHEY_COMPLEX, 2, (255, 0, 255), 5)  # 현재 점수를 이미지에 텍스트로 표시\n",
    "    else:  # 게임 오버 상태라면,\n",
    "        cv2.putText(img, \"Game Over\", (300, 400), cv2.FONT_HERSHEY_PLAIN, 7, (255, 0, 255), 10)  # \"Game Over\" 텍스트를 이미지에 표시\n",
    "\n",
    "    cv2.imshow(\"Image\", img)  # 이미지를 화면에 표시\n",
    "    key = cv2.waitKey(1)  # 사용자의 키 입력을 기다림\n",
    "\n",
    "    if key == ord('r'):  # 'r' 키를 누르면,\n",
    "        resetObject()  # 오브젝트를 리셋하고,\n",
    "        gameOver = False  # 게임 오버 상태를 해제하며,\n",
    "        count = 0  # 점수를 0으로 리셋하고,\n",
    "        currentObject = eatables[0]  # 첫 번째 먹을 수 있는 오브젝트를 현재 오브젝트로 설정\n",
    "        pos = [300, 0]  # 오브젝트의 위치를 초기 위치로 설정\n",
    "\n",
    "    if key == 27:  # ESC 키를 누르면,\n",
    "        break  # 무한 루프를 빠져나옴\n",
    "        \n",
    "cap.release()  # 비디오 캡처 객체를 해제\n",
    "cv2.destroyAllWindows()  # 모든 창을 닫음"
   ]
  },
  {
   "cell_type": "code",
   "execution_count": null,
   "id": "1a1ca379",
   "metadata": {},
   "outputs": [],
   "source": []
  }
 ],
 "metadata": {
  "kernelspec": {
   "display_name": "Python 3 (ipykernel)",
   "language": "python",
   "name": "python3"
  },
  "language_info": {
   "codemirror_mode": {
    "name": "ipython",
    "version": 3
   },
   "file_extension": ".py",
   "mimetype": "text/x-python",
   "name": "python",
   "nbconvert_exporter": "python",
   "pygments_lexer": "ipython3",
   "version": "3.10.9"
  }
 },
 "nbformat": 4,
 "nbformat_minor": 5
}
