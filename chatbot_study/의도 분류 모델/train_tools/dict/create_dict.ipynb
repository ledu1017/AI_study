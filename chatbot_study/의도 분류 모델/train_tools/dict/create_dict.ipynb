{
 "cells": [
  {
   "cell_type": "code",
   "execution_count": 6,
   "id": "ed15b2e8",
   "metadata": {},
   "outputs": [],
   "source": [
    "import os, sys\n",
    "\n",
    "module_path = os.path.abspath(os.path.join('..'))\n",
    "if module_path not in sys.path:\n",
    "    sys.path.append('C:\\\\Users\\\\ledu2\\\\NLP\\\\chatbot_study\\\\utils')"
   ]
  },
  {
   "cell_type": "code",
   "execution_count": 8,
   "id": "2ab8ebb3",
   "metadata": {},
   "outputs": [],
   "source": [
    "import import_ipynb\n",
    "from Preprocess import Preprocess\n",
    "from tensorflow.keras import preprocessing\n",
    "import pickle"
   ]
  },
  {
   "cell_type": "code",
   "execution_count": 11,
   "id": "fcb710ba",
   "metadata": {},
   "outputs": [],
   "source": [
    "# 말뭉치 데이터 읽어오기\n",
    "def read_corpus_data(filename):\n",
    "    with open(filename, 'r', encoding='utf-8') as f:\n",
    "        data = [line.split('\\t') for line in f.read().splitlines()]\n",
    "        data = data[1:]    # 헤더 제거\n",
    "    return data"
   ]
  },
  {
   "cell_type": "code",
   "execution_count": 12,
   "id": "5c91e067",
   "metadata": {},
   "outputs": [],
   "source": [
    "# 말뭉치 데이터 가져오기\n",
    "# 네이버 영화 리뷰 말뭉치 데이터를 기반으로 만들었기에 tab으로 구분\n",
    "# id, document, label\n",
    "corpus_data = read_corpus_data('./corpus.txt')"
   ]
  },
  {
   "cell_type": "code",
   "execution_count": 15,
   "id": "df689083",
   "metadata": {},
   "outputs": [],
   "source": [
    "# 말뭉치 데이터에서 키워드만 추출해서 사전 리스트 생성\n",
    "p = Preprocess()    # 전처리 객체 생성\n",
    "dict = []\n",
    "for c in corpus_data:\n",
    "    pos = p.pos(c[1])\n",
    "    for k in pos:\n",
    "        dict.append(k[0])"
   ]
  },
  {
   "cell_type": "code",
   "execution_count": 16,
   "id": "a70d0022",
   "metadata": {},
   "outputs": [],
   "source": [
    "# 사전에 사용될 word2index 생성\n",
    "# 사전의 첫 번째 인덱스에는 OOV 사용\n",
    "tokenizer = preprocessing.text.Tokenizer(oov_token = 'OOV')\n",
    "tokenizer.fit_on_texts(dict)\n",
    "word_index = tokenizer.word_index"
   ]
  },
  {
   "cell_type": "code",
   "execution_count": 18,
   "id": "12280798",
   "metadata": {},
   "outputs": [],
   "source": [
    "f = open('chatbot_dict.bin', 'wb')\n",
    "try:\n",
    "    pickle.dump(word_index, f)\n",
    "except Exception as e:\n",
    "    print(e)\n",
    "finally:\n",
    "    f.close()"
   ]
  }
 ],
 "metadata": {
  "kernelspec": {
   "display_name": "Python 3 (ipykernel)",
   "language": "python",
   "name": "python3"
  },
  "language_info": {
   "codemirror_mode": {
    "name": "ipython",
    "version": 3
   },
   "file_extension": ".py",
   "mimetype": "text/x-python",
   "name": "python",
   "nbconvert_exporter": "python",
   "pygments_lexer": "ipython3",
   "version": "3.10.9"
  }
 },
 "nbformat": 4,
 "nbformat_minor": 5
}
