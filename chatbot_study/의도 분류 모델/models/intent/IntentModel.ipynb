{
 "cells": [
  {
   "cell_type": "code",
   "execution_count": 2,
   "id": "556e7f0d",
   "metadata": {},
   "outputs": [],
   "source": [
    "import os, sys\n",
    "import tensorflow as tf\n",
    "from tensorflow.keras.models import Model, load_model\n",
    "from tensorflow.keras import preprocessing"
   ]
  },
  {
   "cell_type": "code",
   "execution_count": 1,
   "id": "e5bdea1f",
   "metadata": {},
   "outputs": [],
   "source": [
    "class IntentModel:\n",
    "    def __init__(self, model_name, proprocess):\n",
    "        # 의도 클래스별 레이블\n",
    "        self.labels = {0:\"인사\", 1:'욕설', 2:'주문', 3:'예약', 4:'기타'}\n",
    "        # 의도 분류 모델 불러오기\n",
    "        self.model = load_model(model_name)\n",
    "        # 챗봇 Preprocess 객체\n",
    "        self.p = proprocess\n",
    "        \n",
    "    # 의도 클래스 예측\n",
    "    def predict_class(self, query):\n",
    "        # 형태소 분석\n",
    "        pos = self.p.pos(query)\n",
    "        \n",
    "        # 문장 내 키워드 추출(불용어 제거)\n",
    "        keywords = self.p.get_keywords(pos, without_tag = True)\n",
    "        sequences = [self.p.get_wordidx_sequence(keywords)]\n",
    "        \n",
    "\n",
    "        module_paths = [\n",
    "            'C:\\\\Users\\\\ledu2\\\\NLP\\\\chatbot_study\\\\config'\n",
    "        ]\n",
    "\n",
    "        for path in module_paths:\n",
    "            abs_path = os.path.abspath(path)\n",
    "            if abs_path not in sys.path:\n",
    "                sys.path.append(abs_path)\n",
    "                \n",
    "        # 단어 스퀀스 벡터 크기\n",
    "        from GlobalParams import MAX_SEQ_LEN\n",
    "        \n",
    "        # 패딩처리\n",
    "        padded_seqs = preprocessing.sequence.pad_sequences(sequences, maxlen = MAX_SEQ_LEN, padding = 'post')\n",
    "        \n",
    "        predict = self.model.predict(padded_seqs)\n",
    "        predict_class = tf.math.argmax(predict, axis = 1)\n",
    "        return predict_class.numpy()[0]"
   ]
  },
  {
   "cell_type": "code",
   "execution_count": 6,
   "id": "bbaef847",
   "metadata": {},
   "outputs": [
    {
     "data": {
      "text/plain": [
       "'C:\\\\Users\\\\ledu2\\\\NLP\\\\chatbot_study\\\\models\\\\intent'"
      ]
     },
     "execution_count": 6,
     "metadata": {},
     "output_type": "execute_result"
    }
   ],
   "source": [
    "os.getcwd()"
   ]
  },
  {
   "cell_type": "code",
   "execution_count": null,
   "id": "469151b2",
   "metadata": {},
   "outputs": [],
   "source": []
  }
 ],
 "metadata": {
  "kernelspec": {
   "display_name": "Python 3 (ipykernel)",
   "language": "python",
   "name": "python3"
  },
  "language_info": {
   "codemirror_mode": {
    "name": "ipython",
    "version": 3
   },
   "file_extension": ".py",
   "mimetype": "text/x-python",
   "name": "python",
   "nbconvert_exporter": "python",
   "pygments_lexer": "ipython3",
   "version": "3.10.9"
  }
 },
 "nbformat": 4,
 "nbformat_minor": 5
}
