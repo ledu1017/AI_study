{
 "cells": [
  {
   "cell_type": "code",
   "execution_count": 1,
   "id": "3be2c94e",
   "metadata": {},
   "outputs": [],
   "source": [
    "import os, sys\n",
    "\n",
    "module_path = os.path.abspath(os.path.join('..'))\n",
    "if module_path not in sys.path:\n",
    "    sys.path.append('C:\\\\Users\\\\ledu2\\\\NLP\\\\chatbot_study\\\\utils')"
   ]
  },
  {
   "cell_type": "code",
   "execution_count": 2,
   "id": "ca5dc6f5",
   "metadata": {},
   "outputs": [],
   "source": [
    "import import_ipynb\n",
    "import pickle\n",
    "from Preprocess import Preprocess"
   ]
  },
  {
   "cell_type": "code",
   "execution_count": 3,
   "id": "fdcf64c7",
   "metadata": {},
   "outputs": [],
   "source": [
    "f = open('../train_tools/dict/chatbot_dict.bin', 'rb')\n",
    "word_index = pickle.load(f)\n",
    "f.close()"
   ]
  },
  {
   "cell_type": "code",
   "execution_count": 4,
   "id": "d8290508",
   "metadata": {},
   "outputs": [],
   "source": [
    "sent = \"내일 오전 10시에 탕수육 주문하고 싶어ㅋㅋ\""
   ]
  },
  {
   "cell_type": "code",
   "execution_count": 5,
   "id": "f4723f70",
   "metadata": {},
   "outputs": [],
   "source": [
    "# 전처리 객체 생성\n",
    "p = Preprocess(userdic='../utils/user_dic.tsv')"
   ]
  },
  {
   "cell_type": "code",
   "execution_count": 6,
   "id": "4181add8",
   "metadata": {},
   "outputs": [],
   "source": [
    "# 형태소 분석기 실행\n",
    "pos = p.pos(sent)"
   ]
  },
  {
   "cell_type": "code",
   "execution_count": 7,
   "id": "e23d0696",
   "metadata": {},
   "outputs": [
    {
     "name": "stdout",
     "output_type": "stream",
     "text": [
      "내일 14\n",
      "오전 269\n",
      "10시 1\n",
      "에 30\n",
      "탕수육 431\n",
      "주문 3\n",
      "싶어ㅋㅋ 1\n"
     ]
    }
   ],
   "source": [
    "# 품사 태그 없이 키워드 출력\n",
    "keywords = p.get_keywords(pos, without_tag = True)\n",
    "for word in keywords:\n",
    "    try:\n",
    "        print(word, word_index[word])\n",
    "    except KeyError:\n",
    "        # 해당 단어가 사전에 없는 경우 OOV 처리\n",
    "        print(word, word_index['OOV'])"
   ]
  },
  {
   "cell_type": "code",
   "execution_count": 8,
   "id": "77ee83f9",
   "metadata": {},
   "outputs": [
    {
     "name": "stdout",
     "output_type": "stream",
     "text": [
      "commit? 되나?\n"
     ]
    }
   ],
   "source": [
    "print(\"commit? 되나?\")"
   ]
  },
  {
   "cell_type": "code",
   "execution_count": null,
   "id": "13177792",
   "metadata": {},
   "outputs": [],
   "source": []
  }
 ],
 "metadata": {
  "kernelspec": {
   "display_name": "Python 3 (ipykernel)",
   "language": "python",
   "name": "python3"
  },
  "language_info": {
   "codemirror_mode": {
    "name": "ipython",
    "version": 3
   },
   "file_extension": ".py",
   "mimetype": "text/x-python",
   "name": "python",
   "nbconvert_exporter": "python",
   "pygments_lexer": "ipython3",
   "version": "3.10.9"
  }
 },
 "nbformat": 4,
 "nbformat_minor": 5
}
