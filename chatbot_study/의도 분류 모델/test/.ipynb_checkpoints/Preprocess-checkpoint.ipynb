{
 "cells": [
  {
   "cell_type": "code",
   "execution_count": 1,
   "id": "663524d2",
   "metadata": {},
   "outputs": [],
   "source": [
    "import import_ipynb\n",
    "from konlpy.tag import Komoran"
   ]
  },
  {
   "cell_type": "markdown",
   "id": "d6f235ef",
   "metadata": {},
   "source": [
    "# <font color = blue> 챗봇 전처리 클래스"
   ]
  },
  {
   "cell_type": "code",
   "execution_count": 2,
   "id": "68956838",
   "metadata": {},
   "outputs": [],
   "source": [
    "class Preprocess:\n",
    "    def __init__(self,userdic=None):    # userdic 인자에 사용자 정의 사전 파일 경로\n",
    "        # 형태소 분석기 초기화\n",
    "        self.komoran = Komoran(userdic=userdic)\n",
    "        \n",
    "        self.exclusion_tags = [    # 불용어 품사\n",
    "            'JKS', 'JKC', 'JKG', 'JKO', 'JKV', 'JKQ',\n",
    "            'JX', 'JC',\n",
    "            'SF', 'SP', 'SS', 'SE', 'SO',\n",
    "            'EP', 'EF', 'EC', 'ETN', 'ETM',\n",
    "            'XSN', 'XSV', 'XSA'\n",
    "        ]\n",
    "        \n",
    "    def pos(self, sentence):    # 형태소 분석기 POS 태거\n",
    "        return self.komoran.pos(sentence)\n",
    "    \n",
    "    # 불용어 제거 후 필요한 품사 정보 가져오기\n",
    "    def get_keywords(self, pos, without_tag = False):\n",
    "        f = lambda x:x in self.exclusion_tags\n",
    "        word_list = []\n",
    "        for p in pos:\n",
    "            if f(p[1]) is False:\n",
    "                word_list.append(p if without_tag is False else p[0])\n",
    "        return word_list"
   ]
  },
  {
   "cell_type": "code",
   "execution_count": null,
   "id": "5c0cdf95",
   "metadata": {},
   "outputs": [],
   "source": []
  }
 ],
 "metadata": {
  "kernelspec": {
   "display_name": "Python 3 (ipykernel)",
   "language": "python",
   "name": "python3"
  },
  "language_info": {
   "codemirror_mode": {
    "name": "ipython",
    "version": 3
   },
   "file_extension": ".py",
   "mimetype": "text/x-python",
   "name": "python",
   "nbconvert_exporter": "python",
   "pygments_lexer": "ipython3",
   "version": "3.10.9"
  }
 },
 "nbformat": 4,
 "nbformat_minor": 5
}
