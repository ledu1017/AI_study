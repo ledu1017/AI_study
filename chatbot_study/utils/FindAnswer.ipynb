{
 "cells": [
  {
   "cell_type": "code",
   "execution_count": 1,
   "id": "1b58d679",
   "metadata": {},
   "outputs": [],
   "source": [
    "class FindAnswer:\n",
    "    def __init__(self, db):\n",
    "        self.db = db\n",
    "        \n",
    "    # 검색 쿼리 생성\n",
    "    def _make_query(self, intent_name, ner_tags):\n",
    "        sql = \"select * from chatbot_train_data\"\n",
    "        if intent_name != None and ner_tags == None:\n",
    "            sql = sql + \" where intent = '{}' \".format(intent_name)\n",
    "        elif intent_name != None and ner_tags != None:\n",
    "            where = ' where intent = \"%s\" ' % intent_name\n",
    "            if(len(ner_tags) > 0):\n",
    "                where += 'and ()'\n",
    "                for ne in ner_tags:\n",
    "                    where += \" ner like '%{}%' or \".format(ne)\n",
    "                where = where[:-3] + ')'\n",
    "            sql = sql + where\n",
    "    \n",
    "    # 답변 검색\n",
    "    def search(self, intent_name, ner_tags):\n",
    "        # 의도명과 개체명으로 답변 검색\n",
    "        sql = self._make_query(intent_name, ner_tags)\n",
    "        answer = self.db.select_one(sql)\n",
    "        \n",
    "        # 검색되는 답변이 없으면 의도명만 검색\n",
    "        if answer is None:\n",
    "            sql = self._make_query(intent_name, None)\n",
    "            answer = self.db.select_one(sql)\n",
    "        return (answer['answer'], answer['answer_image'])\n",
    "    \n",
    "    # NER 태그를 실제 입력된 단어로 변환\n",
    "    def tag_to_word(self, ner_predicts, answer):\n",
    "        for word, tag in ner_predicts:\n",
    "            # 변환해야 하는 태그가 있는 경우 추가\n",
    "            if tag == 'B_FOOD':\n",
    "                answer = answer.replace(tag, word)\n",
    "        \n",
    "        answer = answer.replace('{', '')\n",
    "        answer = answer.replace('}', '')\n",
    "        return answer"
   ]
  },
  {
   "cell_type": "code",
   "execution_count": null,
   "id": "5e3528b6",
   "metadata": {},
   "outputs": [],
   "source": []
  }
 ],
 "metadata": {
  "kernelspec": {
   "display_name": "Python 3 (ipykernel)",
   "language": "python",
   "name": "python3"
  },
  "language_info": {
   "codemirror_mode": {
    "name": "ipython",
    "version": 3
   },
   "file_extension": ".py",
   "mimetype": "text/x-python",
   "name": "python",
   "nbconvert_exporter": "python",
   "pygments_lexer": "ipython3",
   "version": "3.10.9"
  }
 },
 "nbformat": 4,
 "nbformat_minor": 5
}
