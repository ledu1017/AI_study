{
 "cells": [
  {
   "cell_type": "code",
   "execution_count": 5,
   "id": "bc89a088",
   "metadata": {},
   "outputs": [],
   "source": [
    "import os, sys    # 다른 폴더에 있는것들 가져오기 위함\n",
    "\n",
    "module_paths = [\n",
    "    'C:\\\\Users\\\\ledu2\\\\NLP\\\\chatbot_study\\\\config'\n",
    "]\n",
    "\n",
    "for path in module_paths:\n",
    "    abs_path = os.path.abspath(path)\n",
    "    if abs_path not in sys.path:\n",
    "        sys.path.append(abs_path)"
   ]
  },
  {
   "cell_type": "code",
   "execution_count": 6,
   "id": "e4536e8c",
   "metadata": {},
   "outputs": [],
   "source": [
    "import pymysql\n",
    "from DatabaseConfig import *"
   ]
  },
  {
   "cell_type": "code",
   "execution_count": 7,
   "id": "97e2cea6",
   "metadata": {},
   "outputs": [],
   "source": [
    "db = None"
   ]
  },
  {
   "cell_type": "code",
   "execution_count": 9,
   "id": "29cf3128",
   "metadata": {},
   "outputs": [],
   "source": [
    "try:\n",
    "    db = pymysql.connect(\n",
    "        host = DB_HOST,\n",
    "        user = DB_USER,\n",
    "        passwd = DB_PASSWORD,\n",
    "        db = DB_NAME,\n",
    "        charset = 'utf8'\n",
    "    )\n",
    "    \n",
    "    # 테이블 생성 sql 정의\n",
    "    sql = '''\n",
    "        CREATE TABLE IF NOT EXISTS chatbot_train_data (\n",
    "        id INT UNSIGNED NOT NULL AUTO_INCREMENT,\n",
    "        intent VARCHAR(45) NULL,\n",
    "        ner VARCHAR(1024) NULL,\n",
    "        query TEXT NULL,\n",
    "        answer TEXT NOT NULL,\n",
    "        answer_image VARCHAR(2048) NULL,\n",
    "        PRIMARY KEY (id)\n",
    "        )\n",
    "        ENGINE=InnoDB DEFAULT CHARSET=utf8\n",
    "    '''\n",
    "    \n",
    "    # 테이블 생성\n",
    "    with db.cursor() as cursor:\n",
    "        cursor.execute(sql)\n",
    "\n",
    "except Exception as e:\n",
    "    print(e)\n",
    "    \n",
    "finally:\n",
    "    if db is not None:\n",
    "        db.close"
   ]
  },
  {
   "cell_type": "code",
   "execution_count": null,
   "id": "a64d82a0",
   "metadata": {},
   "outputs": [],
   "source": []
  }
 ],
 "metadata": {
  "kernelspec": {
   "display_name": "Python 3 (ipykernel)",
   "language": "python",
   "name": "python3"
  },
  "language_info": {
   "codemirror_mode": {
    "name": "ipython",
    "version": 3
   },
   "file_extension": ".py",
   "mimetype": "text/x-python",
   "name": "python",
   "nbconvert_exporter": "python",
   "pygments_lexer": "ipython3",
   "version": "3.10.9"
  }
 },
 "nbformat": 4,
 "nbformat_minor": 5
}
