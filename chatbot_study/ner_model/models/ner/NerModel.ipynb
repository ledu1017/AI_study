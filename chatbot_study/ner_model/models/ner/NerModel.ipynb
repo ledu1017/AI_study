{
 "cells": [
  {
   "cell_type": "code",
   "execution_count": 1,
   "id": "96bab2a0",
   "metadata": {},
   "outputs": [
    {
     "data": {
      "text/plain": [
       "'C:\\\\Users\\\\ledu2\\\\NLP\\\\chatbot_study\\\\개체명 인식 모델\\\\models\\\\ner'"
      ]
     },
     "execution_count": 1,
     "metadata": {},
     "output_type": "execute_result"
    }
   ],
   "source": [
    "import os\n",
    "os.getcwd()"
   ]
  },
  {
   "cell_type": "code",
   "execution_count": 1,
   "id": "45991a79",
   "metadata": {},
   "outputs": [],
   "source": [
    "import tensorflow as tf\n",
    "import numpy as np\n",
    "from tensorflow.keras.models import Model, load_model\n",
    "from tensorflow.keras import preprocessing"
   ]
  },
  {
   "cell_type": "code",
   "execution_count": 4,
   "id": "562fd763",
   "metadata": {},
   "outputs": [],
   "source": [
    "# 개체명 인식 모델 모듈\n",
    "class NerModel:\n",
    "    def __init__(self, model_name, proprocess):\n",
    "        # BIO 태그 클래스별 레이블\n",
    "        self.index_to_ner = {1:'0', 2:'B_DT', 3:'B_FOOD', 4:'I', 5:'B_OG', 6:'B_PS',\n",
    "                            7:'B_LC', 8:'NNP', 9:'B_TI', 0:'PAD'}\n",
    "        \n",
    "        # 의도 분류 모델 모델 불러오기\n",
    "        self.model = load_model(model_name)\n",
    "        # 챗봇 Preprocess 객체\n",
    "        self.p = proprocess\n",
    "    \n",
    "    # 개체명 클래스 예측\n",
    "    def predict(self,query):\n",
    "        # 형태소 분석\n",
    "        pos = self.p.pos(query)\n",
    "        \n",
    "        # 문장 내 키워드 추출(불용어 제거)\n",
    "        keywords = self.p.get_keywords(pos, without_tag = True)\n",
    "        sequences = [self.p.get_wordidx_sequence(keywords)]\n",
    "        \n",
    "        # 패딩 처리\n",
    "        max_len = 400\n",
    "        padded_seqs = preprocessing.sequence.pad_sequences(sequences, padding = \"post\",\n",
    "                                                          value = 0, maxlen = max_len)\n",
    "        \n",
    "        # 키워드별 개체명 예측\n",
    "        predict = self.model.predict(np.array(padded_seqs[0]))\n",
    "        predict_class = tf.math.argmax(predict, axis = -1)\n",
    "        \n",
    "        tags = [self.index_to_ner[i] for i in predict_class.numpy()[0]]\n",
    "        return list(zip(keywords, tags))\n",
    "    \n",
    "    def predict_tags(self, query):\n",
    "        # 형태소 분석\n",
    "        pos = self.p.pos(query)\n",
    "        \n",
    "        # 문장 내 키워드 추출(불용어 제거)\n",
    "        keywords = self.p.get_keywords(pos,without_tag = True)\n",
    "        sequences = [self.p.get_wordidx_sequence(keywords)]\n",
    "        \n",
    "        # 패딩 처리\n",
    "        max_len = 40\n",
    "        padded_seqs = preprocessing.sequence.pad_sequences(sequences, padding = \"post\",\n",
    "                                                          value = 0, maxlen = max_len)\n",
    "        \n",
    "        predict = self.model.predict(np.array([padded_seqs[0]]))\n",
    "        predict_class = tf.math.argmax(predict, axis = -1)\n",
    "        \n",
    "        tags = []\n",
    "        for tag_idx in predict_class.numpy()[0]:\n",
    "            if tag_idx == 1: continue\n",
    "            tags.append(self.index_to_ner[tag_idx])\n",
    "            if len(tags) == 0:\n",
    "                return None\n",
    "            return tags"
   ]
  },
  {
   "cell_type": "code",
   "execution_count": 5,
   "id": "da96d294",
   "metadata": {},
   "outputs": [],
   "source": [
    "import os"
   ]
  },
  {
   "cell_type": "code",
   "execution_count": 6,
   "id": "4d26590c",
   "metadata": {},
   "outputs": [
    {
     "data": {
      "text/plain": [
       "'C:\\\\Users\\\\ledu2\\\\NLP\\\\chatbot_study\\\\개체명 인식 모델\\\\models\\\\ner'"
      ]
     },
     "execution_count": 6,
     "metadata": {},
     "output_type": "execute_result"
    }
   ],
   "source": [
    "os.getcwd()"
   ]
  },
  {
   "cell_type": "code",
   "execution_count": null,
   "id": "394b66c0",
   "metadata": {},
   "outputs": [],
   "source": []
  }
 ],
 "metadata": {
  "kernelspec": {
   "display_name": "Python 3 (ipykernel)",
   "language": "python",
   "name": "python3"
  },
  "language_info": {
   "codemirror_mode": {
    "name": "ipython",
    "version": 3
   },
   "file_extension": ".py",
   "mimetype": "text/x-python",
   "name": "python",
   "nbconvert_exporter": "python",
   "pygments_lexer": "ipython3",
   "version": "3.10.9"
  }
 },
 "nbformat": 4,
 "nbformat_minor": 5
}
