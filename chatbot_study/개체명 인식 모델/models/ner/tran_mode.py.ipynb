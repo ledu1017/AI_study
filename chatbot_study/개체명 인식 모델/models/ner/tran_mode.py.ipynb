{
 "cells": [
  {
   "cell_type": "code",
   "execution_count": 1,
   "id": "856255ab",
   "metadata": {},
   "outputs": [],
   "source": [
    "import os, sys    # 다른 폴더에 있는것들 가져오기 위함\n",
    "\n",
    "module_paths = [\n",
    "    'C:\\\\Users\\\\ledu2\\\\NLP\\\\chatbot_study\\\\개체명 인식 모델\\\\utils'\n",
    "]\n",
    "\n",
    "for path in module_paths:\n",
    "    abs_path = os.path.abspath(path)\n",
    "    if abs_path not in sys.path:\n",
    "        sys.path.append(abs_path)"
   ]
  },
  {
   "cell_type": "code",
   "execution_count": 2,
   "id": "20626e55",
   "metadata": {},
   "outputs": [],
   "source": [
    "import tensorflow as tf\n",
    "from tensorflow.keras import preprocessing\n",
    "from sklearn.model_selection import train_test_split\n",
    "import numpy as np\n",
    "from Preprocess import Preprocess"
   ]
  },
  {
   "cell_type": "code",
   "execution_count": 3,
   "id": "0816cb45",
   "metadata": {},
   "outputs": [],
   "source": [
    "# 학습 파일 불러오기\n",
    "def read_file(file_name):\n",
    "    sents = []\n",
    "    with open(file_name, 'r', encoding='utf-8') as f:\n",
    "        lines = f.readlines()\n",
    "        for idx, l in enumerate(lines):\n",
    "            if l[0] == ';' and lines[idx + 1][0] == '$':\n",
    "                this_sent = []\n",
    "            elif l[0] == '$' and lines[idx - 1][0] == ';':\n",
    "                continue\n",
    "            elif l[0] == '\\n':\n",
    "                sents.append(this_sent)\n",
    "            else:\n",
    "                this_sent.append(tuple(l.split()))\n",
    "    return sents"
   ]
  },
  {
   "cell_type": "code",
   "execution_count": 4,
   "id": "bbdea5d1",
   "metadata": {},
   "outputs": [],
   "source": [
    "# 전처리 객체 생성\n",
    "p = Preprocess(word2index_dic = '../../train_tools/dict/chatbot_dict.bin',\n",
    "              userdic = '../../utils/user_dic.tsv')"
   ]
  },
  {
   "cell_type": "code",
   "execution_count": 5,
   "id": "c2e3addf",
   "metadata": {},
   "outputs": [],
   "source": [
    "# 학습용 말뭉치 데이터 불러오기\n",
    "corpus = read_file('ner_train.txt')"
   ]
  },
  {
   "cell_type": "code",
   "execution_count": 6,
   "id": "a65381e3",
   "metadata": {},
   "outputs": [],
   "source": [
    "# 말뭉치 데이터에서 단어와 BIO 태그만 불러와 학습용 데이터셋 생성\n",
    "sentences, tags = [], []\n",
    "for t in corpus:\n",
    "    tagged_sentence = []\n",
    "    sentence, bio_tag = [], []\n",
    "    for w in t:\n",
    "        tagged_sentence.append((w[1], w[3]))\n",
    "        sentence.append(w[1])\n",
    "        bio_tag.append(w[3])\n",
    "\n",
    "    sentences.append(sentence)\n",
    "    tags.append(bio_tag)"
   ]
  },
  {
   "cell_type": "code",
   "execution_count": 8,
   "id": "84fce596",
   "metadata": {},
   "outputs": [
    {
     "name": "stdout",
     "output_type": "stream",
     "text": [
      "샘플 크기 : \n",
      " 61999\n",
      "0번째 샘플 단어 시퀀스 : \n",
      " ['가락지빵', '주문', '하', '고', '싶', '어요']\n",
      "0번째 샘플 bio 태그 : \n",
      " ['B_FOOD', 'O', 'O', 'O', 'O', 'O']\n",
      "샘플 단어 시퀀스 최대 길이 :  168\n",
      "샘플 단어 시퀀스 평균 길이 :  8.796238649010467\n"
     ]
    }
   ],
   "source": [
    "print(\"샘플 크기 : \\n\", len(sentences))\n",
    "print(\"0번째 샘플 단어 시퀀스 : \\n\", sentences[0])\n",
    "print(\"0번째 샘플 bio 태그 : \\n\", tags[0])\n",
    "print(\"샘플 단어 시퀀스 최대 길이 : \", max(len(l) for l in sentences))\n",
    "print(\"샘플 단어 시퀀스 평균 길이 : \", (sum(map(len, sentences))/len(sentences)))"
   ]
  },
  {
   "cell_type": "code",
   "execution_count": 9,
   "id": "fd94e346",
   "metadata": {},
   "outputs": [],
   "source": [
    "# 토크나이저 정의\n",
    "tag_tokenizer = preprocessing.text.Tokenizer(lower=False) # 태그 정보 lower = False 소문자 변환 X\n",
    "tag_tokenizer.fit_on_texts(tags)"
   ]
  },
  {
   "cell_type": "code",
   "execution_count": 11,
   "id": "694b678e",
   "metadata": {},
   "outputs": [
    {
     "name": "stdout",
     "output_type": "stream",
     "text": [
      "BIO 태그 사전 크기 :  10\n",
      "단어 사전 크기 :  17751\n"
     ]
    }
   ],
   "source": [
    "# 단어 사전 및 태그 사전 크기\n",
    "vocab_size = len(p.word_index) + 1\n",
    "tag_size = len(tag_tokenizer.word_index) + 1\n",
    "print(\"BIO 태그 사전 크기 : \", tag_size)\n",
    "print(\"단어 사전 크기 : \", vocab_size)"
   ]
  },
  {
   "cell_type": "code",
   "execution_count": 29,
   "id": "2869081b",
   "metadata": {},
   "outputs": [],
   "source": [
    "# 학습용 단어 시퀀스 생성\n",
    "x_train = [p.get_wordidx_sequence(sent) for sent in sentences]\n",
    "y_train = tag_tokenizer.texts_to_sequences(tags)\n",
    "\n",
    "index_to_ner = tag_tokenizer.index_word\n",
    "index_to_ner[0] = 'PAD'"
   ]
  },
  {
   "cell_type": "code",
   "execution_count": 13,
   "id": "364d8b7e",
   "metadata": {},
   "outputs": [],
   "source": [
    "# 시퀀스 패딩 처리\n",
    "max_len = 40\n",
    "x_train = preprocessing.sequence.pad_sequences(x_train, padding = 'post', maxlen = max_len)\n",
    "y_train = preprocessing.sequence.pad_sequences(y_train, padding = 'post', maxlen = max_len)"
   ]
  },
  {
   "cell_type": "code",
   "execution_count": 14,
   "id": "19378fe6",
   "metadata": {},
   "outputs": [],
   "source": [
    "# 학습 데이터와 테스트 데이터를 8:2 비율로 분리\n",
    "x_train, x_test, y_train, y_test = train_test_split(x_train, y_train, test_size = .2, random_state = 1234)"
   ]
  },
  {
   "cell_type": "code",
   "execution_count": 15,
   "id": "dbc9c7ce",
   "metadata": {},
   "outputs": [],
   "source": [
    "# 출력 데이터를 원-핫 인코딩\n",
    "y_train = tf.keras.utils.to_categorical(y_train, num_classes=tag_size)\n",
    "y_test = tf.keras.utils.to_categorical(y_test, num_classes=tag_size)"
   ]
  },
  {
   "cell_type": "code",
   "execution_count": 16,
   "id": "28e8b53d",
   "metadata": {},
   "outputs": [
    {
     "name": "stdout",
     "output_type": "stream",
     "text": [
      "학습 샘플 시퀀스 형상 :  (49599, 40)\n",
      "학습 샘플 레이블 형상 :  (49599, 40, 10)\n",
      "테스트 샘플 시퀀스 형상 :  (49599, 40)\n",
      "테스트 샘플 레이블 형상 :  (12400, 40, 10)\n"
     ]
    }
   ],
   "source": [
    "print(\"학습 샘플 시퀀스 형상 : \", x_train.shape)\n",
    "print(\"학습 샘플 레이블 형상 : \", y_train.shape)\n",
    "print(\"테스트 샘플 시퀀스 형상 : \", x_train.shape)\n",
    "print(\"테스트 샘플 레이블 형상 : \", y_test.shape)"
   ]
  },
  {
   "cell_type": "markdown",
   "id": "68b2a492",
   "metadata": {},
   "source": [
    "# 모델 정의(Bi-LSTM)"
   ]
  },
  {
   "cell_type": "code",
   "execution_count": 17,
   "id": "51b16d75",
   "metadata": {},
   "outputs": [],
   "source": [
    "from tensorflow.keras.models import Sequential\n",
    "from tensorflow.keras.layers import LSTM, Embedding, Dense, TimeDistributed, Dropout, Bidirectional\n",
    "from tensorflow.keras.optimizers import Adam"
   ]
  },
  {
   "cell_type": "code",
   "execution_count": 19,
   "id": "458dbefc",
   "metadata": {},
   "outputs": [
    {
     "name": "stdout",
     "output_type": "stream",
     "text": [
      "Epoch 1/10\n",
      "388/388 [==============================] - 195s 484ms/step - loss: 0.1267 - accuracy: 0.9647\n",
      "Epoch 2/10\n",
      "388/388 [==============================] - 193s 498ms/step - loss: 0.0394 - accuracy: 0.9874\n",
      "Epoch 3/10\n",
      "388/388 [==============================] - 197s 508ms/step - loss: 0.0259 - accuracy: 0.9915\n",
      "Epoch 4/10\n",
      "388/388 [==============================] - 201s 519ms/step - loss: 0.0204 - accuracy: 0.9933\n",
      "Epoch 5/10\n",
      "388/388 [==============================] - 228s 587ms/step - loss: 0.0177 - accuracy: 0.9941\n",
      "Epoch 6/10\n",
      "388/388 [==============================] - 228s 587ms/step - loss: 0.0155 - accuracy: 0.9947\n",
      "Epoch 7/10\n",
      "388/388 [==============================] - 231s 596ms/step - loss: 0.0137 - accuracy: 0.9952\n",
      "Epoch 8/10\n",
      "388/388 [==============================] - 229s 589ms/step - loss: 0.0126 - accuracy: 0.9956\n",
      "Epoch 9/10\n",
      "388/388 [==============================] - 230s 594ms/step - loss: 0.0121 - accuracy: 0.9958\n",
      "Epoch 10/10\n",
      "388/388 [==============================] - 187s 483ms/step - loss: 0.0116 - accuracy: 0.9959\n"
     ]
    },
    {
     "data": {
      "text/plain": [
       "<keras.callbacks.History at 0x21661760fa0>"
      ]
     },
     "execution_count": 19,
     "metadata": {},
     "output_type": "execute_result"
    }
   ],
   "source": [
    "model = Sequential()\n",
    "model.add(Embedding(input_dim = vocab_size, output_dim = 30, input_length = max_len, mask_zero = True))\n",
    "model.add(Bidirectional(LSTM(200, return_sequences = True, dropout = 0.50, recurrent_dropout = 0.25)))\n",
    "model.add(TimeDistributed(Dense(tag_size, activation = 'softmax')))\n",
    "model.compile(loss = 'categorical_crossentropy', optimizer = Adam(0.01), metrics = ['accuracy'])\n",
    "model.fit(x_train, y_train, batch_size = 128, epochs = 10)"
   ]
  },
  {
   "cell_type": "code",
   "execution_count": 21,
   "id": "057a974d",
   "metadata": {},
   "outputs": [
    {
     "name": "stdout",
     "output_type": "stream",
     "text": [
      "388/388 [==============================] - 30s 76ms/step - loss: 0.0578 - accuracy: 0.9868\n",
      "평과 결과 :  0.9867639541625977\n"
     ]
    }
   ],
   "source": [
    "print(\"평과 결과 : \", model.evaluate(x_test, y_test)[1])\n",
    "model.save('ner_model.h5')"
   ]
  },
  {
   "cell_type": "code",
   "execution_count": 23,
   "id": "386328aa",
   "metadata": {},
   "outputs": [],
   "source": [
    "# 시퀀스를 NER 태그로 변환\n",
    "def sequences_to_tag(sequences):    #예측값을 index_to_ner를 설정하는 태깅 정보로 변경하는 함수\n",
    "    result = []\n",
    "    for sequence in sequences:    # 전체 시퀀스로부터 시퀀스를 하나씩 꺼낸다.\n",
    "        temp = []\n",
    "        for pred in sequence:    # 시퀀스로부터 예측값을 하나씩 꺼낸다\n",
    "            pred_index = np.argmax(pred)    # 예를 들어 [0, 0, 1, 0, 0] 이라면 1의 인덱스인 2를 리턴\n",
    "            temp.append(index_to_ner[pred_index].replace(\"PAD\", \"0\"))    # 'PAD'는 '0'로 변경\n",
    "        result.append(temp)\n",
    "    return result"
   ]
  },
  {
   "cell_type": "code",
   "execution_count": 26,
   "id": "c5e1476e",
   "metadata": {},
   "outputs": [],
   "source": [
    "# F1 스코어 계산을 위해 사용\n",
    "from seqeval.metrics import f1_score, classification_report"
   ]
  },
  {
   "cell_type": "code",
   "execution_count": 30,
   "id": "5b5a721e",
   "metadata": {},
   "outputs": [
    {
     "name": "stdout",
     "output_type": "stream",
     "text": [
      "388/388 [==============================] - 23s 60ms/step\n"
     ]
    }
   ],
   "source": [
    "# 테스트 데이터셋의 NER 예측\n",
    "y_predicted = model.predict(x_test)\n",
    "pred_tags = sequences_to_tag(y_predicted)    # 예측된 NER\n",
    "test_tags = sequences_to_tag(y_test)    # 실제 NER"
   ]
  },
  {
   "cell_type": "code",
   "execution_count": 31,
   "id": "22f82395",
   "metadata": {},
   "outputs": [
    {
     "name": "stderr",
     "output_type": "stream",
     "text": [
      "C:\\Users\\ledu2\\AppData\\Local\\anaconda3\\lib\\site-packages\\seqeval\\metrics\\sequence_labeling.py:171: UserWarning: B_OG seems not to be NE tag.\n",
      "  warnings.warn('{} seems not to be NE tag.'.format(chunk))\n",
      "C:\\Users\\ledu2\\AppData\\Local\\anaconda3\\lib\\site-packages\\seqeval\\metrics\\sequence_labeling.py:171: UserWarning: B_DT seems not to be NE tag.\n",
      "  warnings.warn('{} seems not to be NE tag.'.format(chunk))\n",
      "C:\\Users\\ledu2\\AppData\\Local\\anaconda3\\lib\\site-packages\\seqeval\\metrics\\sequence_labeling.py:171: UserWarning: B_TI seems not to be NE tag.\n",
      "  warnings.warn('{} seems not to be NE tag.'.format(chunk))\n",
      "C:\\Users\\ledu2\\AppData\\Local\\anaconda3\\lib\\site-packages\\seqeval\\metrics\\sequence_labeling.py:171: UserWarning: B_LC seems not to be NE tag.\n",
      "  warnings.warn('{} seems not to be NE tag.'.format(chunk))\n",
      "C:\\Users\\ledu2\\AppData\\Local\\anaconda3\\lib\\site-packages\\seqeval\\metrics\\sequence_labeling.py:171: UserWarning: 0 seems not to be NE tag.\n",
      "  warnings.warn('{} seems not to be NE tag.'.format(chunk))\n",
      "C:\\Users\\ledu2\\AppData\\Local\\anaconda3\\lib\\site-packages\\seqeval\\metrics\\sequence_labeling.py:171: UserWarning: B_FOOD seems not to be NE tag.\n",
      "  warnings.warn('{} seems not to be NE tag.'.format(chunk))\n",
      "C:\\Users\\ledu2\\AppData\\Local\\anaconda3\\lib\\site-packages\\seqeval\\metrics\\sequence_labeling.py:171: UserWarning: NNP seems not to be NE tag.\n",
      "  warnings.warn('{} seems not to be NE tag.'.format(chunk))\n",
      "C:\\Users\\ledu2\\AppData\\Local\\anaconda3\\lib\\site-packages\\seqeval\\metrics\\sequence_labeling.py:171: UserWarning: B_PS seems not to be NE tag.\n",
      "  warnings.warn('{} seems not to be NE tag.'.format(chunk))\n"
     ]
    },
    {
     "name": "stdout",
     "output_type": "stream",
     "text": [
      "              precision    recall  f1-score   support\n",
      "\n",
      "          NP       1.00      1.00      1.00       303\n",
      "           _       0.57      0.53      0.55       647\n",
      "         _DT       1.00      1.00      1.00     13683\n",
      "       _FOOD       1.00      1.00      1.00     11655\n",
      "         _LC       0.73      0.60      0.66       314\n",
      "         _OG       0.58      0.52      0.55       460\n",
      "         _PS       0.62      0.55      0.59       396\n",
      "         _TI       0.92      0.75      0.83        61\n",
      "\n",
      "   micro avg       0.97      0.97      0.97     27519\n",
      "   macro avg       0.80      0.74      0.77     27519\n",
      "weighted avg       0.97      0.97      0.97     27519\n",
      "\n",
      "F1-score: 97.1%\n"
     ]
    }
   ],
   "source": [
    "# F1 평가 결과\n",
    "print(classification_report(test_tags, pred_tags))\n",
    "print(\"F1-score: {:.1%}\".format(f1_score(test_tags, pred_tags)))"
   ]
  },
  {
   "cell_type": "code",
   "execution_count": null,
   "id": "6a421f0c",
   "metadata": {},
   "outputs": [],
   "source": []
  }
 ],
 "metadata": {
  "kernelspec": {
   "display_name": "Python 3 (ipykernel)",
   "language": "python",
   "name": "python3"
  },
  "language_info": {
   "codemirror_mode": {
    "name": "ipython",
    "version": 3
   },
   "file_extension": ".py",
   "mimetype": "text/x-python",
   "name": "python",
   "nbconvert_exporter": "python",
   "pygments_lexer": "ipython3",
   "version": "3.10.9"
  }
 },
 "nbformat": 4,
 "nbformat_minor": 5
}
