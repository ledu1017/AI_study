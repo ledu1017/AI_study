{
 "cells": [
  {
   "cell_type": "markdown",
   "id": "9300fd4f",
   "metadata": {},
   "source": [
    "# <font color = blue> 챗봇 전처리 클래스 테스트 코드"
   ]
  },
  {
   "cell_type": "code",
   "execution_count": 5,
   "id": "8af6f573",
   "metadata": {},
   "outputs": [],
   "source": [
    "import os, sys\n",
    "\n",
    "module_path = os.path.abspath(os.path.join('..'))\n",
    "if module_path not in sys.path:\n",
    "    sys.path.append('C:\\\\Users\\\\ledu2\\\\NLP\\\\chatbot_study\\\\utils')"
   ]
  },
  {
   "cell_type": "code",
   "execution_count": 8,
   "id": "548c9b43",
   "metadata": {},
   "outputs": [],
   "source": [
    "from Preprocess import Preprocess"
   ]
  },
  {
   "cell_type": "code",
   "execution_count": 9,
   "id": "cd90d74d",
   "metadata": {},
   "outputs": [
    {
     "name": "stdout",
     "output_type": "stream",
     "text": [
      "[('내일', 'NNG'), ('오전', 'NNP'), ('10시', 'NNG'), ('에', 'JKB'), ('탕수육', 'NNG'), ('주문', 'NNG'), ('싶', 'VX')]\n",
      "['내일', '오전', '10시', '에', '탕수육', '주문', '싶']\n"
     ]
    }
   ],
   "source": [
    "sent = \"내일 오전 10시에 탕수육 주문하고 싶어\"\n",
    "p = Preprocess(userdic='../utils/user_dic.tsv')\n",
    "\n",
    "pos = p.pos(sent)\n",
    "\n",
    "# 품사 태그와 같이 출력\n",
    "ret = p.get_keywords(pos, without_tag=False)\n",
    "print(ret)\n",
    "\n",
    "# 품사 태그 없이 키워드 출력\n",
    "ret = p.get_keywords(pos, without_tag=True)\n",
    "print(ret)"
   ]
  },
  {
   "cell_type": "code",
   "execution_count": null,
   "id": "291017bf",
   "metadata": {},
   "outputs": [],
   "source": []
  }
 ],
 "metadata": {
  "kernelspec": {
   "display_name": "Python 3 (ipykernel)",
   "language": "python",
   "name": "python3"
  },
  "language_info": {
   "codemirror_mode": {
    "name": "ipython",
    "version": 3
   },
   "file_extension": ".py",
   "mimetype": "text/x-python",
   "name": "python",
   "nbconvert_exporter": "python",
   "pygments_lexer": "ipython3",
   "version": "3.10.9"
  }
 },
 "nbformat": 4,
 "nbformat_minor": 5
}
