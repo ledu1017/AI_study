{
 "cells": [
  {
   "cell_type": "code",
   "execution_count": 1,
   "id": "badd20d9",
   "metadata": {},
   "outputs": [],
   "source": [
    "import os, sys    # 다른 폴더에 있는것들 가져오기 위함\n",
    "\n",
    "module_paths = [\n",
    "    'C:\\\\Users\\\\ledu2\\\\NLP\\\\chatbot_study\\\\utils',\n",
    "    'C:\\\\Users\\\\ledu2\\\\NLP\\\\chatbot_study\\\\models\\\\intent'\n",
    "]\n",
    "\n",
    "for path in module_paths:\n",
    "    abs_path = os.path.abspath(path)\n",
    "    if abs_path not in sys.path:\n",
    "        sys.path.append(abs_path)"
   ]
  },
  {
   "cell_type": "code",
   "execution_count": 2,
   "id": "560f8bb9",
   "metadata": {},
   "outputs": [],
   "source": [
    "from Preprocess import Preprocess\n",
    "from IntentModel import IntentModel"
   ]
  },
  {
   "cell_type": "code",
   "execution_count": 3,
   "id": "fabf575a",
   "metadata": {},
   "outputs": [],
   "source": [
    "p = Preprocess(word2index_dic = '../train_tools/dict/chatbot_dict.bin',\n",
    "              userdic = '../utils/user_dic.tsv')"
   ]
  },
  {
   "cell_type": "code",
   "execution_count": 4,
   "id": "60c2155b",
   "metadata": {},
   "outputs": [],
   "source": [
    "intent = IntentModel(model_name = '../models/intent/intent_model.h5', proprocess = p)"
   ]
  },
  {
   "cell_type": "code",
   "execution_count": 5,
   "id": "03105f23",
   "metadata": {},
   "outputs": [
    {
     "name": "stdout",
     "output_type": "stream",
     "text": [
      "1/1 [==============================] - 0s 240ms/step\n"
     ]
    }
   ],
   "source": [
    "query = \"오늘 탕수육 주문 가능한가요?\"\n",
    "predict = intent.predict_class(query)\n",
    "predict_label = intent.labels[predict]"
   ]
  },
  {
   "cell_type": "code",
   "execution_count": 7,
   "id": "bf857b7c",
   "metadata": {},
   "outputs": [
    {
     "name": "stdout",
     "output_type": "stream",
     "text": [
      "오늘 탕수육 주문 가능한가요?\n",
      "의도 예측 클래스 :  2\n",
      "의도 예측 레이블 :  주문\n"
     ]
    }
   ],
   "source": [
    "print(query)\n",
    "print('의도 예측 클래스 : ', predict)\n",
    "print('의도 예측 레이블 : ', predict_label)"
   ]
  },
  {
   "cell_type": "code",
   "execution_count": null,
   "id": "aa88bd1e",
   "metadata": {},
   "outputs": [],
   "source": []
  }
 ],
 "metadata": {
  "kernelspec": {
   "display_name": "Python 3 (ipykernel)",
   "language": "python",
   "name": "python3"
  },
  "language_info": {
   "codemirror_mode": {
    "name": "ipython",
    "version": 3
   },
   "file_extension": ".py",
   "mimetype": "text/x-python",
   "name": "python",
   "nbconvert_exporter": "python",
   "pygments_lexer": "ipython3",
   "version": "3.10.9"
  }
 },
 "nbformat": 4,
 "nbformat_minor": 5
}
