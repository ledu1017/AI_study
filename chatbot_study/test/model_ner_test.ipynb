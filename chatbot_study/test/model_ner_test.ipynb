{
 "cells": [
  {
   "cell_type": "code",
   "execution_count": 5,
   "id": "35beccd1",
   "metadata": {},
   "outputs": [],
   "source": [
    "import os, sys    # 다른 폴더에 있는것들 가져오기 위함\n",
    "\n",
    "module_paths = [\n",
    "    'C:\\\\Users\\\\ledu2\\\\NLP\\\\chatbot_study\\\\ner_model\\\\utils',\n",
    "    'C:\\\\Users\\\\ledu2\\\\NLP\\\\chatbot_study\\\\ner_model\\\\models\\\\ner'\n",
    "]\n",
    "\n",
    "for path in module_paths:\n",
    "    abs_path = os.path.abspath(path)\n",
    "    if abs_path not in sys.path:\n",
    "        sys.path.append(abs_path)"
   ]
  },
  {
   "cell_type": "code",
   "execution_count": 6,
   "id": "9ac74df4",
   "metadata": {},
   "outputs": [],
   "source": [
    "from Preprocess import Preprocess\n",
    "from NerModel import NerModel"
   ]
  },
  {
   "cell_type": "code",
   "execution_count": 7,
   "id": "65b6993e",
   "metadata": {},
   "outputs": [],
   "source": [
    "p = Preprocess(word2index_dic = '../train_tools/dict/chatbot_dict.bin',\n",
    "              userdic = '../utils/user_dic/tsv')"
   ]
  },
  {
   "cell_type": "code",
   "execution_count": 8,
   "id": "194ee569",
   "metadata": {},
   "outputs": [
    {
     "name": "stdout",
     "output_type": "stream",
     "text": [
      "1/1 [==============================] - 1s 915ms/step\n",
      "[('오늘', 'B_DT'), ('오전', 'B_TI'), ('13', 'O'), ('시', 'I'), ('2', 'I'), ('분', 'I'), ('에', 'O'), ('탕수육', 'B_FOOD'), ('주문', 'O'), ('싶', 'O')]\n"
     ]
    }
   ],
   "source": [
    "ner = NerModel(model_name = '../models/ner/ner_model.h5', proprocess = p)\n",
    "query = '오늘 오전 13시 2분에 탕수육 주문하고 싶어요'\n",
    "predicts = ner.predict(query)\n",
    "print(predicts)"
   ]
  },
  {
   "cell_type": "code",
   "execution_count": null,
   "id": "684c3330",
   "metadata": {},
   "outputs": [],
   "source": []
  }
 ],
 "metadata": {
  "kernelspec": {
   "display_name": "Python 3 (ipykernel)",
   "language": "python",
   "name": "python3"
  },
  "language_info": {
   "codemirror_mode": {
    "name": "ipython",
    "version": 3
   },
   "file_extension": ".py",
   "mimetype": "text/x-python",
   "name": "python",
   "nbconvert_exporter": "python",
   "pygments_lexer": "ipython3",
   "version": "3.10.9"
  }
 },
 "nbformat": 4,
 "nbformat_minor": 5
}
