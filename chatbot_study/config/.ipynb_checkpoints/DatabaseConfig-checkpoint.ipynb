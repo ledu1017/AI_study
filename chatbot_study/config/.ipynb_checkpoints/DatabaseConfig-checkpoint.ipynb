{
 "cells": [
  {
   "cell_type": "code",
   "execution_count": 3,
   "id": "72bd12fd",
   "metadata": {},
   "outputs": [],
   "source": [
    "DB_HOST = \"127.0.0.1\"\n",
    "DB_USER = \"root\"\n",
    "DB_PASSWORD = \"doudu10170%\"\n",
    "DB_NAME = \"chat_bot\"\n",
    "\n",
    "def DatabaseConfig():\n",
    "    global DB_HOST, DB_USER, DB_PASSWORD, DB_NAME"
   ]
  },
  {
   "cell_type": "code",
   "execution_count": 2,
   "id": "474266d5",
   "metadata": {},
   "outputs": [
    {
     "data": {
      "text/plain": [
       "'C:\\\\Users\\\\ledu2\\\\NLP\\\\chatbot_study\\\\config'"
      ]
     },
     "execution_count": 2,
     "metadata": {},
     "output_type": "execute_result"
    }
   ],
   "source": [
    "import os\n",
    "os.getcwd()"
   ]
  },
  {
   "cell_type": "code",
   "execution_count": null,
   "id": "7d64f576",
   "metadata": {},
   "outputs": [],
   "source": []
  }
 ],
 "metadata": {
  "kernelspec": {
   "display_name": "Python 3 (ipykernel)",
   "language": "python",
   "name": "python3"
  },
  "language_info": {
   "codemirror_mode": {
    "name": "ipython",
    "version": 3
   },
   "file_extension": ".py",
   "mimetype": "text/x-python",
   "name": "python",
   "nbconvert_exporter": "python",
   "pygments_lexer": "ipython3",
   "version": "3.10.9"
  }
 },
 "nbformat": 4,
 "nbformat_minor": 5
}
